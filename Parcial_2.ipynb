{
  "nbformat": 4,
  "nbformat_minor": 0,
  "metadata": {
    "colab": {
      "provenance": [],
      "gpuType": "V28",
      "authorship_tag": "ABX9TyPB06/NXkEhpyEO5/kr0MqL",
      "include_colab_link": true
    },
    "kernelspec": {
      "name": "python3",
      "display_name": "Python 3"
    },
    "language_info": {
      "name": "python"
    },
    "accelerator": "TPU"
  },
  "cells": [
    {
      "cell_type": "markdown",
      "metadata": {
        "id": "view-in-github",
        "colab_type": "text"
      },
      "source": [
        "<a href=\"https://colab.research.google.com/github/ashborn8/Parcial2_R.A.2/blob/main/Parcial_2.ipynb\" target=\"_parent\"><img src=\"https://colab.research.google.com/assets/colab-badge.svg\" alt=\"Open In Colab\"/></a>"
      ]
    },
    {
      "cell_type": "markdown",
      "source": [
        "# Ejercicio 1 : Visualización del proceso de retropropagación en PyTorch"
      ],
      "metadata": {
        "id": "kLLp0LpLudp4"
      }
    },
    {
      "cell_type": "markdown",
      "source": [
        "# Paso 1: Importar librerías y definir el modelo"
      ],
      "metadata": {
        "id": "TxEX9vb5sK4d"
      }
    },
    {
      "cell_type": "code",
      "execution_count": 2,
      "metadata": {
        "id": "skakEbdjn9yw"
      },
      "outputs": [],
      "source": [
        "import torch\n",
        "import torch.nn as nn\n",
        "import torch.optim as optim\n",
        "import matplotlib.pyplot as plt\n",
        "\n",
        "# Definir el modelo\n",
        "class SimpleNN(nn.Module):\n",
        "  def __init__(self):\n",
        "    super(SimpleNN, self).__init__()\n",
        "    self.fc1 = nn.Linear(784, 128)  # Capa oculto\n",
        "    self.fc2 = nn.Linear(128, 10)   # Capa de salida\n",
        "\n",
        "  def forward(self, x):\n",
        "    x = torch.relu(self.fc1(x))     # Activacion ReLu en la capa oculta\n",
        "    x = self.fc2(x)                 # Capa de salida\n",
        "    return x"
      ]
    },
    {
      "cell_type": "markdown",
      "source": [
        "# Paso 2: Inicialización de componentes"
      ],
      "metadata": {
        "id": "5t4HC7-QsS0q"
      }
    },
    {
      "cell_type": "code",
      "source": [
        "# Iniciar el modelo, criterio y optimizador\n",
        "\n",
        "model = SimpleNN()\n",
        "criterion = nn.CrossEntropyLoss()   # Perdida de entropia cruzada\n",
        "optimizer = optim.Adam(model.parameters(), lr=0.001)    # OPtimizador Adam"
      ],
      "metadata": {
        "id": "4OZnRVNDsub6"
      },
      "execution_count": 3,
      "outputs": []
    },
    {
      "cell_type": "markdown",
      "source": [
        "# Paso 3: Generar datos de entrenamiento"
      ],
      "metadata": {
        "id": "wRY1_8BFtCWe"
      }
    },
    {
      "cell_type": "code",
      "source": [
        "# Crear datos de entrenamiento aleatorios\n",
        "x_train = torch.rand((1000, 784))   # Datos aleatorios\n",
        "y_train = torch.randint(0, 10, (1000,))    # Etiquetas aleatorias"
      ],
      "metadata": {
        "id": "jQV7f2PPtGSV"
      },
      "execution_count": 4,
      "outputs": []
    },
    {
      "cell_type": "markdown",
      "source": [
        "# Paso 4: Entrenamiento y visualización"
      ],
      "metadata": {
        "id": "SvSpLxPLtVnQ"
      }
    },
    {
      "cell_type": "code",
      "source": [
        "# Listas para almacenar la perdida\n",
        "losses = []\n",
        "\n",
        "# Entrenamiento\n",
        "for epoch in range(10):\n",
        "  optimizer.zero_grad() # Iniciar los gradientes\n",
        "  outputs = model(x_train)  # Pasar los datos a traves del modelo\n",
        "  loss = criterion(outputs, y_train)  #Calcular la perdida\n",
        "  losses.append(loss.item())  # Almacenar la perdida\n",
        "  loss.backward() # Calcular gradientes\n",
        "  optimizer.step()  # Actualizar los pesos\n",
        "\n",
        "# Graficar la perdida\n",
        "plt.plot(losses)\n",
        "plt.title('Perdida durante el entrenamiento')\n",
        "plt.xlabel('Epocas')\n",
        "plt.ylabel('Perdida')\n",
        "plt.show()"
      ],
      "metadata": {
        "colab": {
          "base_uri": "https://localhost:8080/",
          "height": 472
        },
        "id": "jHHd_0yitZPM",
        "outputId": "05aa1ea1-fac9-4188-d44b-e8bd5397b5b8"
      },
      "execution_count": 5,
      "outputs": [
        {
          "output_type": "display_data",
          "data": {
            "text/plain": [
              "<Figure size 640x480 with 1 Axes>"
            ],
            "image/png": "[encoded data removed]"
          },
          "metadata": {}
        }
      ]
    },
    {
      "cell_type": "markdown",
      "source": [
        "# Ejercicio 2: Optimización Adam para acelerar el aprendizaje en TensorFlow"
      ],
      "metadata": {
        "id": "M7GBVX-BuI9U"
      }
    },
    {
      "cell_type": "code",
      "source": [
        "# Paso 1: Importar librerías\n",
        "import tensorflow as tf\n",
        "import numpy as np"
      ],
      "metadata": {
        "id": "iXHfZbrjuq94"
      },
      "execution_count": 6,
      "outputs": []
    },
    {
      "cell_type": "code",
      "source": [
        "# Paso 2: Definir el modelo\n",
        "model = tf.keras.Sequential([\n",
        "    tf.keras.layers.Dense(64, activation='relu', input_shape=(784,)),  # Primera capa oculta\n",
        "    tf.keras.layers.Dense(64, activation='relu'),                      # Segunda capa oculta\n",
        "    tf.keras.layers.Dense(10, activation='softmax')                    # Capa de salida\n",
        "])"
      ],
      "metadata": {
        "id": "c63li2G9vAXQ"
      },
      "execution_count": 7,
      "outputs": []
    },
    {
      "cell_type": "code",
      "source": [
        "# Paso 3: Compilar el modelo usando Adam\n",
        "model.compile(optimizer='adam',\n",
        "              loss='sparse_categorical_crossentropy',\n",
        "              metrics=['accuracy'])"
      ],
      "metadata": {
        "id": "pZLgS2Z5vFd8"
      },
      "execution_count": 8,
      "outputs": []
    },
    {
      "cell_type": "code",
      "source": [
        "# Paso 4: Preparar el conjunto de datos\n",
        "mnist = tf.keras.datasets.mnist\n",
        "(x_train, y_train), (x_test, y_test) = mnist.load_data()\n",
        "x_train, x_test = x_train / 255.0, x_test / 255.0  # Normalización\n",
        "x_train = x_train.reshape(-1, 784)  # Aplanado de imágenes\n",
        "x_test = x_test.reshape(-1, 784)"
      ],
      "metadata": {
        "colab": {
          "base_uri": "https://localhost:8080/"
        },
        "id": "s634ZhOEvPaX",
        "outputId": "423bf593-26f8-4408-d1e3-021fa9d3382e"
      },
      "execution_count": 9,
      "outputs": [
        {
          "output_type": "stream",
          "name": "stdout",
          "text": [
            "Downloading data from https://storage.googleapis.com/tensorflow/tf-keras-datasets/mnist.npz\n",
            "11490434/11490434 [==============================] - 0s 0us/step\n"
          ]
        }
      ]
    },
    {
      "cell_type": "code",
      "source": [
        "# Paso 5: Entrenar el modelo\n",
        "model.fit(x_train, y_train, epochs=10)"
      ],
      "metadata": {
        "colab": {
          "base_uri": "https://localhost:8080/"
        },
        "id": "N1uy5mmmvS1k",
        "outputId": "459de5eb-f604-448c-bf06-9b771f90e724"
      },
      "execution_count": 10,
      "outputs": [
        {
          "output_type": "stream",
          "name": "stdout",
          "text": [
            "Epoch 1/10\n",
            "1875/1875 [==============================] - 5s 2ms/step - loss: 0.2835 - accuracy: 0.9174\n",
            "Epoch 2/10\n",
            "1875/1875 [==============================] - 4s 2ms/step - loss: 0.1280 - accuracy: 0.9610\n",
            "Epoch 3/10\n",
            "1875/1875 [==============================] - 4s 2ms/step - loss: 0.0919 - accuracy: 0.9718\n",
            "Epoch 4/10\n",
            "1875/1875 [==============================] - 4s 2ms/step - loss: 0.0734 - accuracy: 0.9772\n",
            "Epoch 5/10\n",
            "1875/1875 [==============================] - 4s 2ms/step - loss: 0.0608 - accuracy: 0.9800\n",
            "Epoch 6/10\n",
            "1875/1875 [==============================] - 4s 2ms/step - loss: 0.0491 - accuracy: 0.9845\n",
            "Epoch 7/10\n",
            "1875/1875 [==============================] - 4s 2ms/step - loss: 0.0410 - accuracy: 0.9869\n",
            "Epoch 8/10\n",
            "1875/1875 [==============================] - 4s 2ms/step - loss: 0.0381 - accuracy: 0.9874\n",
            "Epoch 9/10\n",
            "1875/1875 [==============================] - 4s 2ms/step - loss: 0.0300 - accuracy: 0.9901\n",
            "Epoch 10/10\n",
            "1875/1875 [==============================] - 4s 2ms/step - loss: 0.0277 - accuracy: 0.9905\n"
          ]
        },
        {
          "output_type": "execute_result",
          "data": {
            "text/plain": [
              "<keras.src.callbacks.History at 0x7b5150725780>"
            ]
          },
          "metadata": {},
          "execution_count": 10
        }
      ]
    },
    {
      "cell_type": "code",
      "source": [
        "# Paso 6: Evaluar el modelo\n",
        "test_loss, test_acc = model.evaluate(x_test, y_test)\n",
        "print(f'Precisión del modelo en los datos de prueba: {test_acc}')"
      ],
      "metadata": {
        "colab": {
          "base_uri": "https://localhost:8080/"
        },
        "id": "6nXdWt_RvbQI",
        "outputId": "c546ca02-b9a5-4ecd-b487-c69e6d6396a6"
      },
      "execution_count": 11,
      "outputs": [
        {
          "output_type": "stream",
          "name": "stdout",
          "text": [
            "313/313 [==============================] - 1s 2ms/step - loss: 0.0939 - accuracy: 0.9764\n",
            "Precisión del modelo en los datos de prueba: 0.9764000177383423\n"
          ]
        }
      ]
    },
    {
      "cell_type": "markdown",
      "source": [
        "# Ejercicio 3: Red neuronal de una sola capa para clasificación binaria usando Keras"
      ],
      "metadata": {
        "id": "iVeo9IWkvp_G"
      }
    },
    {
      "cell_type": "code",
      "source": [
        "# Paso 1: Importar TensorFlow y NumPy\n",
        "import tensorflow as tf\n",
        "import numpy as np"
      ],
      "metadata": {
        "id": "qXOukZ7Yvssa"
      },
      "execution_count": 12,
      "outputs": []
    },
    {
      "cell_type": "code",
      "source": [
        "# Paso 2: Generar datos de ejemplo para clasificación binaria\n",
        "np.random.seed(42)\n",
        "X = np.random.randn(1000, 20)\n",
        "y = np.where(np.sum(X, axis=1) > 10, 1, 0)"
      ],
      "metadata": {
        "id": "SPcKKVujvwUY"
      },
      "execution_count": 13,
      "outputs": []
    },
    {
      "cell_type": "code",
      "source": [
        "# Paso 3: Definir la red de una sola capa\n",
        "model = tf.keras.Sequential([\n",
        "    tf.keras.layers.Dense(1, activation='sigmoid', input_shape=(20,))  # Capa única con activación sigmoide\n",
        "])"
      ],
      "metadata": {
        "id": "swa5ygWAwAD-"
      },
      "execution_count": 14,
      "outputs": []
    },
    {
      "cell_type": "code",
      "source": [
        "# Paso 4: Compilar el modelo\n",
        "model.compile(optimizer='adam',\n",
        "              loss='binary_crossentropy',\n",
        "              metrics=['accuracy'])"
      ],
      "metadata": {
        "id": "7HHZd_c-wDeg"
      },
      "execution_count": 15,
      "outputs": []
    },
    {
      "cell_type": "code",
      "source": [
        "# Paso 5: Entrenar el modelo\n",
        "model.fit(X, y, epochs=10)"
      ],
      "metadata": {
        "colab": {
          "base_uri": "https://localhost:8080/"
        },
        "id": "BaxhDdikwICK",
        "outputId": "e9d412b9-f8b3-4928-be01-b3a2336f5995"
      },
      "execution_count": 16,
      "outputs": [
        {
          "output_type": "stream",
          "name": "stdout",
          "text": [
            "Epoch 1/10\n",
            "32/32 [==============================] - 0s 2ms/step - loss: 0.8397 - accuracy: 0.4910\n",
            "Epoch 2/10\n",
            "32/32 [==============================] - 0s 2ms/step - loss: 0.8090 - accuracy: 0.5020\n",
            "Epoch 3/10\n",
            "32/32 [==============================] - 0s 2ms/step - loss: 0.7796 - accuracy: 0.5200\n",
            "Epoch 4/10\n",
            "32/32 [==============================] - 0s 1ms/step - loss: 0.7515 - accuracy: 0.5300\n",
            "Epoch 5/10\n",
            "32/32 [==============================] - 0s 1ms/step - loss: 0.7241 - accuracy: 0.5550\n",
            "Epoch 6/10\n",
            "32/32 [==============================] - 0s 1ms/step - loss: 0.6986 - accuracy: 0.5760\n",
            "Epoch 7/10\n",
            "32/32 [==============================] - 0s 1ms/step - loss: 0.6744 - accuracy: 0.5900\n",
            "Epoch 8/10\n",
            "32/32 [==============================] - 0s 1ms/step - loss: 0.6516 - accuracy: 0.6150\n",
            "Epoch 9/10\n",
            "32/32 [==============================] - 0s 1ms/step - loss: 0.6300 - accuracy: 0.6420\n",
            "Epoch 10/10\n",
            "32/32 [==============================] - 0s 1ms/step - loss: 0.6093 - accuracy: 0.6680\n"
          ]
        },
        {
          "output_type": "execute_result",
          "data": {
            "text/plain": [
              "<keras.src.callbacks.History at 0x7b4848038af0>"
            ]
          },
          "metadata": {},
          "execution_count": 16
        }
      ]
    },
    {
      "cell_type": "code",
      "source": [
        "# Paso 6: Evaluar el modelo\n",
        "loss, accuracy = model.evaluate(X, y)\n",
        "print(f'Precisión del modelo: {accuracy}')"
      ],
      "metadata": {
        "colab": {
          "base_uri": "https://localhost:8080/"
        },
        "id": "Ruye5DlxwNMl",
        "outputId": "eb7afe72-8908-4278-b4f6-70aa6f1dc206"
      },
      "execution_count": 17,
      "outputs": [
        {
          "output_type": "stream",
          "name": "stdout",
          "text": [
            "32/32 [==============================] - 0s 1ms/step - loss: 0.5988 - accuracy: 0.6790\n",
            "Precisión del modelo: 0.6790000200271606\n"
          ]
        }
      ]
    }
  ]
}